{
  "nbformat": 4,
  "nbformat_minor": 0,
  "metadata": {
    "colab": {
      "provenance": [],
      "authorship_tag": "ABX9TyMw78IX6s1lUngyuVEcuyuK",
      "include_colab_link": true
    },
    "kernelspec": {
      "name": "python3",
      "display_name": "Python 3"
    },
    "language_info": {
      "name": "python"
    }
  },
  "cells": [
    {
      "cell_type": "markdown",
      "metadata": {
        "id": "view-in-github",
        "colab_type": "text"
      },
      "source": [
        "<a href=\"https://colab.research.google.com/github/Tony181189/JPMorgan-Challenge/blob/main/JPMorgan_04.ipynb\" target=\"_parent\"><img src=\"https://colab.research.google.com/assets/colab-badge.svg\" alt=\"Open In Colab\"/></a>"
      ]
    },
    {
      "cell_type": "code",
      "source": [
        "import pandas as pd\n",
        "from sklearn.model_selection import train_test_split\n",
        "from sklearn.preprocessing import StandardScaler\n",
        "from sklearn.linear_model import LogisticRegression\n",
        "from sklearn.metrics import mean_squared_error\n",
        "import numpy as np"
      ],
      "metadata": {
        "id": "GwqjjCuzM78g"
      },
      "execution_count": 13,
      "outputs": []
    },
    {
      "cell_type": "code",
      "source": [
        "# 1. Carregar os dados\n",
        "df = pd.read_csv('Task 3 and 4_Loan_Data.csv')"
      ],
      "metadata": {
        "id": "77ilBqiNXa0u"
      },
      "execution_count": 14,
      "outputs": []
    },
    {
      "cell_type": "code",
      "source": [
        "# 2. Preparar os dados\n",
        "X = df[['credit_lines_outstanding', 'loan_amt_outstanding', 'total_debt_outstanding',\n",
        "        'income', 'years_employed', 'fico_score']]\n",
        "y = df['default']\n",
        "\n",
        "# Normalizar os dados\n",
        "scaler = StandardScaler()\n",
        "X_scaled = scaler.fit_transform(X)"
      ],
      "metadata": {
        "id": "U0An8DcBXcEY"
      },
      "execution_count": 16,
      "outputs": []
    },
    {
      "cell_type": "code",
      "source": [
        "# 3. Dividir os dados em treino e teste\n",
        "X_train, X_test, y_train, y_test = train_test_split(X_scaled, y, test_size=0.2, random_state=42)"
      ],
      "metadata": {
        "id": "J0wWI6CMXdno"
      },
      "execution_count": 17,
      "outputs": []
    },
    {
      "cell_type": "code",
      "source": [
        "# 4. Treinar o modelo principal\n",
        "model = LogisticRegression(random_state=42)\n",
        "model.fit(X_train, y_train)"
      ],
      "metadata": {
        "colab": {
          "base_uri": "https://localhost:8080/",
          "height": 75
        },
        "id": "nXmTBExtXm64",
        "outputId": "d9da085e-d340-4ce3-f83e-f55c41946e4f"
      },
      "execution_count": 18,
      "outputs": [
        {
          "output_type": "execute_result",
          "data": {
            "text/plain": [
              "LogisticRegression(random_state=42)"
            ],
            "text/html": [
              "<style>#sk-container-id-1 {color: black;}#sk-container-id-1 pre{padding: 0;}#sk-container-id-1 div.sk-toggleable {background-color: white;}#sk-container-id-1 label.sk-toggleable__label {cursor: pointer;display: block;width: 100%;margin-bottom: 0;padding: 0.3em;box-sizing: border-box;text-align: center;}#sk-container-id-1 label.sk-toggleable__label-arrow:before {content: \"▸\";float: left;margin-right: 0.25em;color: #696969;}#sk-container-id-1 label.sk-toggleable__label-arrow:hover:before {color: black;}#sk-container-id-1 div.sk-estimator:hover label.sk-toggleable__label-arrow:before {color: black;}#sk-container-id-1 div.sk-toggleable__content {max-height: 0;max-width: 0;overflow: hidden;text-align: left;background-color: #f0f8ff;}#sk-container-id-1 div.sk-toggleable__content pre {margin: 0.2em;color: black;border-radius: 0.25em;background-color: #f0f8ff;}#sk-container-id-1 input.sk-toggleable__control:checked~div.sk-toggleable__content {max-height: 200px;max-width: 100%;overflow: auto;}#sk-container-id-1 input.sk-toggleable__control:checked~label.sk-toggleable__label-arrow:before {content: \"▾\";}#sk-container-id-1 div.sk-estimator input.sk-toggleable__control:checked~label.sk-toggleable__label {background-color: #d4ebff;}#sk-container-id-1 div.sk-label input.sk-toggleable__control:checked~label.sk-toggleable__label {background-color: #d4ebff;}#sk-container-id-1 input.sk-hidden--visually {border: 0;clip: rect(1px 1px 1px 1px);clip: rect(1px, 1px, 1px, 1px);height: 1px;margin: -1px;overflow: hidden;padding: 0;position: absolute;width: 1px;}#sk-container-id-1 div.sk-estimator {font-family: monospace;background-color: #f0f8ff;border: 1px dotted black;border-radius: 0.25em;box-sizing: border-box;margin-bottom: 0.5em;}#sk-container-id-1 div.sk-estimator:hover {background-color: #d4ebff;}#sk-container-id-1 div.sk-parallel-item::after {content: \"\";width: 100%;border-bottom: 1px solid gray;flex-grow: 1;}#sk-container-id-1 div.sk-label:hover label.sk-toggleable__label {background-color: #d4ebff;}#sk-container-id-1 div.sk-serial::before {content: \"\";position: absolute;border-left: 1px solid gray;box-sizing: border-box;top: 0;bottom: 0;left: 50%;z-index: 0;}#sk-container-id-1 div.sk-serial {display: flex;flex-direction: column;align-items: center;background-color: white;padding-right: 0.2em;padding-left: 0.2em;position: relative;}#sk-container-id-1 div.sk-item {position: relative;z-index: 1;}#sk-container-id-1 div.sk-parallel {display: flex;align-items: stretch;justify-content: center;background-color: white;position: relative;}#sk-container-id-1 div.sk-item::before, #sk-container-id-1 div.sk-parallel-item::before {content: \"\";position: absolute;border-left: 1px solid gray;box-sizing: border-box;top: 0;bottom: 0;left: 50%;z-index: -1;}#sk-container-id-1 div.sk-parallel-item {display: flex;flex-direction: column;z-index: 1;position: relative;background-color: white;}#sk-container-id-1 div.sk-parallel-item:first-child::after {align-self: flex-end;width: 50%;}#sk-container-id-1 div.sk-parallel-item:last-child::after {align-self: flex-start;width: 50%;}#sk-container-id-1 div.sk-parallel-item:only-child::after {width: 0;}#sk-container-id-1 div.sk-dashed-wrapped {border: 1px dashed gray;margin: 0 0.4em 0.5em 0.4em;box-sizing: border-box;padding-bottom: 0.4em;background-color: white;}#sk-container-id-1 div.sk-label label {font-family: monospace;font-weight: bold;display: inline-block;line-height: 1.2em;}#sk-container-id-1 div.sk-label-container {text-align: center;}#sk-container-id-1 div.sk-container {/* jupyter's `normalize.less` sets `[hidden] { display: none; }` but bootstrap.min.css set `[hidden] { display: none !important; }` so we also need the `!important` here to be able to override the default hidden behavior on the sphinx rendered scikit-learn.org. See: https://github.com/scikit-learn/scikit-learn/issues/21755 */display: inline-block !important;position: relative;}#sk-container-id-1 div.sk-text-repr-fallback {display: none;}</style><div id=\"sk-container-id-1\" class=\"sk-top-container\"><div class=\"sk-text-repr-fallback\"><pre>LogisticRegression(random_state=42)</pre><b>In a Jupyter environment, please rerun this cell to show the HTML representation or trust the notebook. <br />On GitHub, the HTML representation is unable to render, please try loading this page with nbviewer.org.</b></div><div class=\"sk-container\" hidden><div class=\"sk-item\"><div class=\"sk-estimator sk-toggleable\"><input class=\"sk-toggleable__control sk-hidden--visually\" id=\"sk-estimator-id-1\" type=\"checkbox\" checked><label for=\"sk-estimator-id-1\" class=\"sk-toggleable__label sk-toggleable__label-arrow\">LogisticRegression</label><div class=\"sk-toggleable__content\"><pre>LogisticRegression(random_state=42)</pre></div></div></div></div></div>"
            ]
          },
          "metadata": {},
          "execution_count": 18
        }
      ]
    },
    {
      "cell_type": "code",
      "source": [
        "# 5. Avaliar a performance do modelo principal\n",
        "y_pred_proba = model.predict_proba(X_test)[:, 1]"
      ],
      "metadata": {
        "id": "tMFe4Cs-Xphg"
      },
      "execution_count": 19,
      "outputs": []
    },
    {
      "cell_type": "code",
      "source": [
        "# Calcular o MSE para cada variável individualmente\n",
        "mse_values = {}\n",
        "for i, column in enumerate(X.columns):\n",
        "    # Treinar um modelo separado para cada variável\n",
        "    X_train_single = X_train[:, i].reshape(-1, 1)\n",
        "    X_test_single = X_test[:, i].reshape(-1, 1)\n",
        "\n",
        "    model_single = LogisticRegression(random_state=42)\n",
        "    model_single.fit(X_train_single, y_train)\n",
        "\n",
        "    y_pred_proba_single = model_single.predict_proba(X_test_single)[:, 1]\n",
        "    mse = mean_squared_error(y_test, y_pred_proba_single)\n",
        "    mse_values[column] = mse"
      ],
      "metadata": {
        "id": "YrXZxjNgXq0Q"
      },
      "execution_count": 20,
      "outputs": []
    },
    {
      "cell_type": "code",
      "source": [
        "# Exibir os MSEs individuais\n",
        "for column, mse in mse_values.items():\n",
        "    print(f\"Erro Quadrático Médio (MSE) para {column}: {mse:.4f}\")"
      ],
      "metadata": {
        "colab": {
          "base_uri": "https://localhost:8080/"
        },
        "id": "wO3u4LapXtxZ",
        "outputId": "d3dfcf9a-1e6c-42f5-d719-602458a81258"
      },
      "execution_count": 21,
      "outputs": [
        {
          "output_type": "stream",
          "name": "stdout",
          "text": [
            "Erro Quadrático Médio (MSE) para credit_lines_outstanding: 0.0198\n",
            "Erro Quadrático Médio (MSE) para loan_amt_outstanding: 0.1420\n",
            "Erro Quadrático Médio (MSE) para total_debt_outstanding: 0.0483\n",
            "Erro Quadrático Médio (MSE) para income: 0.1438\n",
            "Erro Quadrático Médio (MSE) para years_employed: 0.1330\n",
            "Erro Quadrático Médio (MSE) para fico_score: 0.1273\n"
          ]
        }
      ]
    },
    {
      "cell_type": "code",
      "source": [
        "# Função para prever a probabilidade de inadimplência e verificar se está acima de 90%\n",
        "def prever_inadimplencia():\n",
        "    print(\"\\nPreencha as informações do cliente:\")\n",
        "\n",
        "    credit_lines_outstanding = float(input(\"Linhas de crédito pendente: \"))\n",
        "    loan_amt_outstanding = float(input(\"Valor do empréstimo pendente: \"))\n",
        "    total_debt_outstanding = float(input(\"Dívida total pendente: \"))\n",
        "    income = float(input(\"Renda: \"))\n",
        "    years_employed = float(input(\"Anos empregado: \"))\n",
        "    fico_score = float(input(\"Score: \"))\n",
        "\n",
        "    # Criar um DataFrame com as entradas\n",
        "    entrada = pd.DataFrame([[credit_lines_outstanding, loan_amt_outstanding, total_debt_outstanding,\n",
        "                             income, years_employed, fico_score]],\n",
        "                           columns=['credit_lines_outstanding', 'loan_amt_outstanding',\n",
        "                                    'total_debt_outstanding', 'income', 'years_employed', 'fico_score'])\n",
        "\n",
        "    # Normalizar a entrada\n",
        "    entrada_scaled = scaler.transform(entrada)\n",
        "\n",
        "    # Prever a probabilidade de inadimplência\n",
        "    probabilidade = model.predict_proba(entrada_scaled)[:, 1]\n",
        "\n",
        "    print(f\"\\nA probabilidade de inadimplência é: {probabilidade[0]:.2%}\")\n",
        "\n",
        "    # Verificar se a probabilidade é maior ou igual a 90%\n",
        "    if probabilidade >= 0.90:\n",
        "        print(\"Este cliente provavelmente ficará inadimplente.\")\n",
        "    else:\n",
        "        print(\"Este cliente tem uma chance menor de inadimplência.\")"
      ],
      "metadata": {
        "id": "V-yYuxExXvLg"
      },
      "execution_count": 24,
      "outputs": []
    },
    {
      "cell_type": "code",
      "source": [
        "# Chamar a função para prever a inadimplência\n",
        "prever_inadimplencia()"
      ],
      "metadata": {
        "colab": {
          "base_uri": "https://localhost:8080/"
        },
        "id": "AWqAoL3vXw5o",
        "outputId": "41e61f12-d132-4bc6-d77e-c69ce51a4d4d"
      },
      "execution_count": 25,
      "outputs": [
        {
          "output_type": "stream",
          "name": "stdout",
          "text": [
            "\n",
            "Preencha as informações do cliente:\n",
            "Linhas de crédito pendente: 5\n",
            "Valor do empréstimo pendente: 2000\n",
            "Dívida total pendente: 10000\n",
            "Renda: 30000\n",
            "Anos empregado: 8\n",
            "Score: 400\n",
            "\n",
            "A probabilidade de inadimplência é: 99.98%\n",
            "Este cliente provavelmente ficará inadimplente.\n"
          ]
        }
      ]
    },
    {
      "cell_type": "code",
      "source": [],
      "metadata": {
        "id": "6X5yUQCLX903"
      },
      "execution_count": null,
      "outputs": []
    }
  ]
}